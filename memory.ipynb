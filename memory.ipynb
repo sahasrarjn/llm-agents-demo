{
 "cells": [
  {
   "cell_type": "code",
   "execution_count": 1,
   "metadata": {},
   "outputs": [],
   "source": [
    "from langchain_core.tools import tool\n",
    "from langchain_openai import ChatOpenAI\n",
    "from langchain.prompts import ChatPromptTemplate, MessagesPlaceholder\n",
    "from langchain.agents import AgentExecutor, create_openai_functions_agent\n",
    "\n",
    "from typing import Annotated\n",
    "from prettytable import PrettyTable\n",
    "\n",
    "PROCESS_MEMORY_AGENT_PROMPT = \"\"\"\n",
    "You are a memory expert. You can store and retrieve memories. You look for important information from the given user context and store it in your memory for future reference. You can also retrieve the stored memory when needed. \n",
    "\n",
    "You use the `store` tool with the key and memory as the arguments to store the memory. Moreover you use `ask_user_approval` tool to ask for user approval to update memory.\n",
    "\n",
    "For example if user says: 'I am John Doe (23/M), I am a software engineer at XYZ company', you will store:\n",
    "`key: user, memory: John Doe (23/M)`, `key: profession, memory: software engineer`, `key: company, memory: XYZ company`.\n",
    "\n",
    "You have two options:\n",
    "1. You add a new (key, information) pair to the memory if the key does not exist in the memory.\n",
    "2. In very rare cases, you update the alredy existing information for a key if you find an updated value. But you \"must\" ask user for confirmation before overwriting the information using the `ask_user_approval` tool, if denied, add that information to a new key.\n",
    "\n",
    "You try to keep the memory very concise storing only the important information.\n",
    "\n",
    "You store personal inromation related to the user like `name`, `username`, `password`, `age`, `dob`, `gender`, `email`, etc.\n",
    "\n",
    "Current memory: {memory}\n",
    "\n",
    "User context: {context}\n",
    "\n",
    "Remeber:\n",
    "- You store the important infromation only.\n",
    "- You mostly add new key, info pair\n",
    "- Very rarely update the existing information, but ask user for approval before updating.\n",
    "\"\"\""
   ]
  },
  {
   "cell_type": "code",
   "execution_count": 2,
   "metadata": {},
   "outputs": [],
   "source": [
    "process_memory = {}"
   ]
  },
  {
   "cell_type": "code",
   "execution_count": 3,
   "metadata": {},
   "outputs": [],
   "source": [
    "@tool\n",
    "def store(\n",
    "    key: Annotated[str, \"Key to store\"],\n",
    "    information: Annotated[str, \"Memory to store\"]\n",
    ") -> None:\n",
    "    \"\"\"Store the memory with the given key.\"\"\"\n",
    "    process_memory[key] = information\n",
    "\n",
    "@tool\n",
    "def ask_user_approval(\n",
    "    query: Annotated[str, \"The query for which user approval is required.\"]\n",
    ") -> Annotated[bool, \"The user approval for the query.\"]:\n",
    "    \"\"\"Asks user approval for the given query.\"\"\"\n",
    "    print('Asking user approval for the query: ', query)\n",
    "    response = input(\"Do you approve this action? (y/n): \")\n",
    "    return response.lower() in ['y', 'yes']"
   ]
  },
  {
   "cell_type": "code",
   "execution_count": 4,
   "metadata": {},
   "outputs": [],
   "source": [
    "class ProcessMemoryAgent:\n",
    "    def __init__(self, llm:ChatOpenAI) -> None:\n",
    "        self.llm = llm\n",
    "        prompt = ChatPromptTemplate.from_messages(\n",
    "            [\n",
    "                (\"system\", PROCESS_MEMORY_AGENT_PROMPT),\n",
    "                MessagesPlaceholder(variable_name=\"agent_scratchpad\"),\n",
    "            ]\n",
    "        )\n",
    "\n",
    "        \n",
    "        tool = [store, ask_user_approval]\n",
    "        agent = create_openai_functions_agent(self.llm, tool, prompt)\n",
    "        self.executor = AgentExecutor(\n",
    "            agent=agent, tools=tool, handle_parsing_errors=True, verbose=False\n",
    "        )\n",
    "\n",
    "    def retrieve_memory(self):\n",
    "        table = PrettyTable()\n",
    "        table.field_names = [\"Key\", \"Information\"]\n",
    "        for key, information in process_memory.items():\n",
    "            table.add_row([key, information])\n",
    "        memory = table.get_string()\n",
    "        # print(\"\\033[33m\" + memory + \"\\033[0m\")\n",
    "        return memory\n",
    "    \n",
    "    def get_keys(self):\n",
    "        return process_memory.keys()\n",
    "\n",
    "    def add_to_memory(self, context:str):\n",
    "        self.executor.invoke({\n",
    "            \"context\": context,\n",
    "            \"memory\": self.retrieve_memory()\n",
    "        })"
   ]
  },
  {
   "cell_type": "code",
   "execution_count": 5,
   "metadata": {},
   "outputs": [],
   "source": [
    "\n",
    "llm = ChatOpenAI(model=\"gpt-4o\", temperature=0)\n",
    "process_memory_agent = ProcessMemoryAgent(llm)"
   ]
  },
  {
   "cell_type": "code",
   "execution_count": 6,
   "metadata": {},
   "outputs": [],
   "source": [
    "process_memory_agent.add_to_memory(\"I am Sahasra Ranjan (23/M), a software engineer at XYZ company. I spend my days immersed in complex algorithms, creating innovative solutions that drive our digital world forward. In the midst of this technological whirlwind, I find solace in the simple pleasures of life. I am an avid guitarist, the melodies I create are a reflection of my inner world, a symphony of thoughts and emotions. Reading is another passion of mine, it's like a portal to different worlds, each book a new adventure. But enough about me, let's talk about the universe. Did you know that there are more stars in the universe than grains of sand on all the beaches on Earth? Or that a teaspoon of a neutron star would weigh about 10 million tons? Fascinating, isn't it? And what about the fact that we share 50% of our DNA with bananas? Makes you think, doesn't it?\")\n"
   ]
  },
  {
   "cell_type": "code",
   "execution_count": 7,
   "metadata": {},
   "outputs": [
    {
     "name": "stdout",
     "output_type": "stream",
     "text": [
      "+------------+-----------------------+\n",
      "|    Key     |      Information      |\n",
      "+------------+-----------------------+\n",
      "|    user    | Sahasra Ranjan (23/M) |\n",
      "| profession |   software engineer   |\n",
      "|  company   |      XYZ company      |\n",
      "|   hobby1   |     avid guitarist    |\n",
      "|   hobby2   |        reading        |\n",
      "+------------+-----------------------+\n"
     ]
    }
   ],
   "source": [
    "print(process_memory_agent.retrieve_memory())"
   ]
  },
  {
   "cell_type": "code",
   "execution_count": 8,
   "metadata": {},
   "outputs": [
    {
     "name": "stdout",
     "output_type": "stream",
     "text": [
      "Asking user approval for the query:  It seems your name has changed from Sahasra Ranjan to John Doe. Do you want to update this information?\n"
     ]
    }
   ],
   "source": [
    "process_memory_agent.add_to_memory(\"I am John Doe\")"
   ]
  },
  {
   "cell_type": "code",
   "execution_count": 9,
   "metadata": {},
   "outputs": [
    {
     "name": "stdout",
     "output_type": "stream",
     "text": [
      "+------------+-------------------+\n",
      "|    Key     |    Information    |\n",
      "+------------+-------------------+\n",
      "|    user    |      John Doe     |\n",
      "| profession | software engineer |\n",
      "|  company   |    XYZ company    |\n",
      "|   hobby1   |   avid guitarist  |\n",
      "|   hobby2   |      reading      |\n",
      "+------------+-------------------+\n"
     ]
    }
   ],
   "source": [
    "print(process_memory_agent.retrieve_memory())"
   ]
  },
  {
   "cell_type": "code",
   "execution_count": null,
   "metadata": {},
   "outputs": [],
   "source": []
  }
 ],
 "metadata": {
  "kernelspec": {
   "display_name": "env",
   "language": "python",
   "name": "python3"
  },
  "language_info": {
   "codemirror_mode": {
    "name": "ipython",
    "version": 3
   },
   "file_extension": ".py",
   "mimetype": "text/x-python",
   "name": "python",
   "nbconvert_exporter": "python",
   "pygments_lexer": "ipython3",
   "version": "3.12.2"
  }
 },
 "nbformat": 4,
 "nbformat_minor": 2
}
