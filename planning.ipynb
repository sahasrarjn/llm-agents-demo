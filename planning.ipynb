{
 "cells": [
  {
   "cell_type": "code",
   "execution_count": 8,
   "metadata": {},
   "outputs": [],
   "source": [
    "from langchain_core.messages import HumanMessage, SystemMessage\n",
    "from langchain_core.prompts import ChatPromptTemplate, MessagesPlaceholder\n",
    "from langchain_openai import ChatOpenAI\n",
    "from langchain.agents import load_tools, initialize_agent, AgentExecutor, create_openai_functions_agent\n"
   ]
  },
  {
   "cell_type": "code",
   "execution_count": 9,
   "metadata": {},
   "outputs": [
    {
     "data": {
      "text/plain": [
       "True"
      ]
     },
     "execution_count": 9,
     "metadata": {},
     "output_type": "execute_result"
    }
   ],
   "source": [
    "import os\n",
    "from dotenv import load_dotenv\n",
    "load_dotenv()"
   ]
  },
  {
   "cell_type": "code",
   "execution_count": 10,
   "metadata": {},
   "outputs": [],
   "source": [
    "MODEL = \"gpt-3.5-turbo\"\n",
    "llm = ChatOpenAI(model=MODEL, temperature=0)"
   ]
  },
  {
   "cell_type": "code",
   "execution_count": 30,
   "metadata": {},
   "outputs": [],
   "source": [
    "query = \"\"\"\n",
    "    Please provide the following details:\n",
    "    1. What is the capital of Australia?\n",
    "    2. Who is the current President of the United States?\n",
    "    3. What is the population of the city where the President of the United States was born?\n",
    "    4. What is the GDP of the country of which the capital is the birthplace of the current President of the United States?\n",
    "    5. What are the main industries in the birthplace city of the current President of the United States?\n",
    "    6. Who was the President of the United States before the current one and where was he born?\n",
    "\"\"\"\n"
   ]
  },
  {
   "cell_type": "code",
   "execution_count": 31,
   "metadata": {},
   "outputs": [],
   "source": [
    "from langchain_community.tools.tavily_search import TavilySearchResults\n",
    "\n",
    "tools = [TavilySearchResults()]"
   ]
  },
  {
   "cell_type": "code",
   "execution_count": 32,
   "metadata": {},
   "outputs": [],
   "source": [
    "tools = load_tools([\"google-serper\", \"llm-math\"], llm=llm)\n",
    "react_agent = initialize_agent(tools, llm, agent=\"zero-shot-react-description\", verbose=True)"
   ]
  },
  {
   "cell_type": "code",
   "execution_count": 33,
   "metadata": {},
   "outputs": [],
   "source": [
    "prompt = ChatPromptTemplate.from_messages(\n",
    "    [\n",
    "        (\"system\", \"You are a general agent.\"),\n",
    "        MessagesPlaceholder(variable_name=\"messages\"),\n",
    "        MessagesPlaceholder(variable_name=\"agent_scratchpad\"),\n",
    "    ]\n",
    ")\n",
    "agent = AgentExecutor(\n",
    "    agent=create_openai_functions_agent(llm, tools, prompt), \n",
    "    tools=tools, \n",
    "    handle_parsing_errors=True, \n",
    "    verbose=False,\n",
    ")"
   ]
  },
  {
   "cell_type": "code",
   "execution_count": 34,
   "metadata": {},
   "outputs": [
    {
     "name": "stdout",
     "output_type": "stream",
     "text": [
      "\n",
      "\n",
      "\u001b[1m> Entering new AgentExecutor chain...\u001b[0m\n",
      "\u001b[32;1m\u001b[1;3mI need to gather information on the capital of Australia, the current President of the United States, and related details.\n",
      "Action: google_serper\n",
      "Action Input: \"capital of Australia\"\u001b[0m\n",
      "Observation: \u001b[36;1m\u001b[1;3mAustralian Capital Territory: Australian Territory. The Australian Capital Territory houses Canberra, Australia’s capital, built between Sydney and Melbourne in the early 20th century. The federal district’s forest, farmland and nature reserves earn Canberra its nickname, the \"Bush Capital.” The... Australian Capital Territory Capital: Canberra. Australian Capital Territory Population: 431,215 (Sep 2020). Australian Capital Territory Area: 910 mi². Australian Capital Territory Chief minister: Andrew Barr. Australian Capital Territory Bird: Gang-gang cockatoo. Australian Capital Territory Colour(s): Blue and gold. Australian Capital Territory HDI (2021): 0.980; very high · 1st. The capital city was founded and formally named as Canberra in 1913. A plan by the American architects Walter Burley Griffin and Marion Mahony Griffin was ... Home to the nation's capital, Canberra, the ACT is renowned for its cosmopolitan atmosphere and cool, new edge. The state boasts some of Australia's most ... Canberra, the capital city of Australia, is situated within the territory, and serves as the territory's primate city. It is located in southeastern Australian ... Canberra in Australia Capital Territory is a small city of around 450,000 people that sits between Sydney and Melbourne. The site was chosen as the location for ... Canberra, federal capital of the Commonwealth of Australia. It occupies part of the Australian Capital Territory, in southern Australia, and is about 150 ... Australia's capital is Canberra, located in the southeast between the larger and more important economic and cultural centres of Sydney and Melbourne. The small-yet-mighty capital of Canberra is a city that punches far above its weight. Well-known museums and historical sites are just the beginning. Dig a ... Welcome to Canberra, Capital City of Australia! \"Founded following the federation of the ... Duration: 15:04. Posted: Feb 4, 2024. Lady Denman naming the Federal City \"Canberra\" on 12 March, 1913. ... In the first day of January 1901, the colonies of New South Wales, Victoria, South Australia ...\u001b[0m\n",
      "Thought:\u001b[32;1m\u001b[1;3mI have found information about the capital of Australia. Now I need to find the current President of the United States.\n",
      "Action: google_serper\n",
      "Action Input: \"current President of the United States\"\u001b[0m\n",
      "Observation: \u001b[36;1m\u001b[1;3mJoe Biden\u001b[0m\n",
      "Thought:\u001b[32;1m\u001b[1;3mI have found the current President of the United States. Now I need to find the population of the city where the President was born.\n",
      "Action: google_serper\n",
      "Action Input: \"population of Scranton, Pennsylvania\"\u001b[0m\n",
      "Observation: \u001b[36;1m\u001b[1;3m75,848 (2022)\u001b[0m\n",
      "Thought:\u001b[32;1m\u001b[1;3mI have found the population of Scranton, Pennsylvania. Now I need to find the GDP of the country of which the capital is the birthplace of the current President of the United States.\n",
      "Action: google_serper\n",
      "Action Input: \"Australia GDP\"\u001b[0m\n",
      "Observation: \u001b[36;1m\u001b[1;3m1.693 trillion USD (2022)\u001b[0m\n",
      "Thought:\u001b[32;1m\u001b[1;3mI have found the GDP of Australia. Now I need to find the main industries in Scranton, Pennsylvania.\n",
      "Action: google_serper\n",
      "Action Input: \"main industries in Scranton, Pennsylvania\"\u001b[0m\n",
      "Observation: \u001b[36;1m\u001b[1;3m01Scranton, Pennsylvania is known for its rich coal mining history. 02The textile industry was a major contributor to Scranton's economic growth. 03Scranton became a hub for iron and steel production. 04Scranton's economy experienced a shift towards manufacturing and machinery production.\u001b[0m\n",
      "Thought:\u001b[32;1m\u001b[1;3mI have found the main industries in Scranton, Pennsylvania. Now I need to find out who was the President of the United States before the current one and where he was born.\n",
      "Action: google_serper\n",
      "Action Input: \"President of the United States before Joe Biden\"\u001b[0m\n",
      "Observation: \u001b[36;1m\u001b[1;3mJoseph R. Biden Jr. THE 46TH PRESIDENT OF THE UNITED STATES. Chronological List of Presidents, First Spouses, and Vice Presidents of the United States ; 2009-2017, Barack Obama · Michelle Obama · Joseph R. \"James Carter\" · \"George H. W. Bush\" · \"William J. Clinton\" · \"George W. Bush\" · \"Barack Obama\" · \"Donald Trump\" · \"Joe Biden\" ... 1. George Washington · 2. John Adams. 19th Century · 3. Thomas Jefferson · 4. James Madison · 5. James Monroe · 6. John Quincy Adams · 7. Andrew Jackson · 8. Martin ... Joe Biden, Jan. 20, 2009-Jan. 20, 2017, 111, 112, 113, 114. Donald J. Trump, Republican, Mike Pence, Jan. 20, 2017-Jan. 20, 2021, 115, 116. Joseph R. Biden, Jr. There have been 46 presidents of the United States. The youngest president was John F. Kennedy at age 43. The oldest is Joe Biden at age 78. 43. George W. Bush ; 44. Barack Obama ; 45. Donald Trump ; 46. Joe Biden ... U.S. Presidents ; George Washington. 1 · 1789. 1797 ; John Adams. 2 · 1797. 1801 ; Thomas Jefferson. 3 · 1801. 1809 ; James Madison. 4 · 1809. 1817 ; James Monroe. 5. Presidents of the United States of America. See ... President Martin Van Buren. 56.517.4. Abraham Lincoln: The ... Joseph R. Biden. 2021–present. The American Wing ... GEORGE WASHINGTON | 1789-1797; JOHN ADAMS | 1797-1801; THOMAS JEFFERSON | 1801-1809; JAMES MADISON | 1809-1817; JAMES MONROE | 1817-1825; JOHN QUINCY ADAMS ...\u001b[0m\n",
      "Thought:\u001b[32;1m\u001b[1;3mI have gathered all the necessary information.\n",
      "Final Answer:\n",
      "1. The capital of Australia is Canberra.\n",
      "2. The current President of the United States is Joe Biden.\n",
      "3. The population of Scranton, Pennsylvania is 75,848.\n",
      "4. The GDP of Australia is 1.693 trillion USD.\n",
      "5. The main industries in Scranton, Pennsylvania are coal mining, textile industry, iron and steel production, manufacturing, and machinery production.\n",
      "6. The President of the United States before Joe Biden was Donald Trump, and he was born in New York.\u001b[0m\n",
      "\n",
      "\u001b[1m> Finished chain.\u001b[0m\n",
      "1. The capital of Australia is Canberra.\n",
      "2. The current President of the United States is Joe Biden.\n",
      "3. The population of Scranton, Pennsylvania is 75,848.\n",
      "4. The GDP of Australia is 1.693 trillion USD.\n",
      "5. The main industries in Scranton, Pennsylvania are coal mining, textile industry, iron and steel production, manufacturing, and machinery production.\n",
      "6. The President of the United States before Joe Biden was Donald Trump, and he was born in New York.\n"
     ]
    }
   ],
   "source": [
    "response = react_agent.invoke(query)\n",
    "print(response['output'])"
   ]
  },
  {
   "cell_type": "code",
   "execution_count": 35,
   "metadata": {},
   "outputs": [
    {
     "name": "stdout",
     "output_type": "stream",
     "text": [
      "6. The President of the United States before Joe Biden was Donald Trump. He was born in Queens, New York City, New York.\n",
      "\n",
      "If you have any more questions or need further information, feel free to ask!\n"
     ]
    }
   ],
   "source": [
    "response = agent.invoke({\n",
    "    \"messages\": [\n",
    "        HumanMessage(content=query),\n",
    "    ],\n",
    "})\n",
    "\n",
    "print(response['output'])"
   ]
  },
  {
   "cell_type": "code",
   "execution_count": null,
   "metadata": {},
   "outputs": [],
   "source": []
  }
 ],
 "metadata": {
  "kernelspec": {
   "display_name": "env",
   "language": "python",
   "name": "python3"
  },
  "language_info": {
   "codemirror_mode": {
    "name": "ipython",
    "version": 3
   },
   "file_extension": ".py",
   "mimetype": "text/x-python",
   "name": "python",
   "nbconvert_exporter": "python",
   "pygments_lexer": "ipython3",
   "version": "3.12.2"
  }
 },
 "nbformat": 4,
 "nbformat_minor": 2
}
