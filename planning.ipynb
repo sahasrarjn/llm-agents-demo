{
 "cells": [
  {
   "cell_type": "code",
   "execution_count": 10,
   "metadata": {},
   "outputs": [],
   "source": [
    "from langchain_core.messages import HumanMessage, SystemMessage\n",
    "from langchain_core.prompts import ChatPromptTemplate, MessagesPlaceholder\n",
    "from langchain_openai import ChatOpenAI\n",
    "from langchain.agents import load_tools, initialize_agent, AgentExecutor, create_openai_functions_agent\n"
   ]
  },
  {
   "cell_type": "code",
   "execution_count": 11,
   "metadata": {},
   "outputs": [
    {
     "data": {
      "text/plain": [
       "True"
      ]
     },
     "execution_count": 11,
     "metadata": {},
     "output_type": "execute_result"
    }
   ],
   "source": [
    "import os\n",
    "from dotenv import load_dotenv\n",
    "load_dotenv()"
   ]
  },
  {
   "cell_type": "code",
   "execution_count": 12,
   "metadata": {},
   "outputs": [],
   "source": [
    "MODEL = \"gpt-3.5-turbo\"\n",
    "llm = ChatOpenAI(model=MODEL, temperature=0)"
   ]
  },
  {
   "cell_type": "code",
   "execution_count": 19,
   "metadata": {},
   "outputs": [],
   "source": [
    "query = \"\"\"\n",
    "    Please provide the following details:\n",
    "    1. What is the capital of Australia?\n",
    "    2. Who is the current Prime Minister of Australia?\n",
    "    3. In which city was the current Prime Minister of Australia born?\n",
    "    4. What is the population of the city where the current Prime Minister of Australia was born?\n",
    "    5. What is the GDP of Australia?\n",
    "    6. What are the main industries in the birthplace city of the current Prime Minister of Australia?\n",
    "    7. Who was the Prime Minister of Australia before the current one and where was he or she born?\n",
    "    8. What was the GDP of Australia during the term of the previous Prime Minister?\n",
    "    9. How did the main industries in the birthplace city of the previous Prime Minister contribute to the GDP of Australia during his or her term?\n",
    "\"\"\"\n",
    "\n"
   ]
  },
  {
   "cell_type": "code",
   "execution_count": 20,
   "metadata": {},
   "outputs": [],
   "source": [
    "from langchain_community.tools.tavily_search import TavilySearchResults\n",
    "\n",
    "tools = [TavilySearchResults()]"
   ]
  },
  {
   "cell_type": "code",
   "execution_count": 21,
   "metadata": {},
   "outputs": [],
   "source": [
    "tools = load_tools([\"google-serper\", \"llm-math\"], llm=llm)\n",
    "react_agent = initialize_agent(tools, llm, agent=\"zero-shot-react-description\", verbose=True)"
   ]
  },
  {
   "cell_type": "code",
   "execution_count": 22,
   "metadata": {},
   "outputs": [],
   "source": [
    "prompt = ChatPromptTemplate.from_messages(\n",
    "    [\n",
    "        (\"system\", \"You are a general agent.\"),\n",
    "        MessagesPlaceholder(variable_name=\"messages\"),\n",
    "        MessagesPlaceholder(variable_name=\"agent_scratchpad\"),\n",
    "    ]\n",
    ")\n",
    "agent = AgentExecutor(\n",
    "    agent=create_openai_functions_agent(llm, tools, prompt), \n",
    "    tools=tools, \n",
    "    handle_parsing_errors=True, \n",
    "    verbose=False,\n",
    ")"
   ]
  },
  {
   "cell_type": "code",
   "execution_count": 23,
   "metadata": {},
   "outputs": [
    {
     "name": "stdout",
     "output_type": "stream",
     "text": [
      "\n",
      "\n",
      "\u001b[1m> Entering new AgentExecutor chain...\u001b[0m\n",
      "\u001b[32;1m\u001b[1;3mThis question requires a mix of general knowledge and current information. We will need to use the Google Search API for most of the answers.\n",
      "\n",
      "Action: google_serper\n",
      "Action Input: \"capital of Australia\"\u001b[0m\n",
      "Observation: \u001b[36;1m\u001b[1;3mAustralian Capital Territory: Australian Territory. The Australian Capital Territory houses Canberra, Australia’s capital, built between Sydney and Melbourne in the early 20th century. The federal district’s forest, farmland and nature reserves earn Canberra its nickname, the \"Bush Capital.” The... Australian Capital Territory Capital: Canberra. Australian Capital Territory Population: 431,215 (Sep 2020). Australian Capital Territory Area: 910 mi². Australian Capital Territory Chief minister: Andrew Barr. Australian Capital Territory Bird: Gang-gang cockatoo. Australian Capital Territory Colour(s): Blue and gold. Australian Capital Territory HDI (2021): 0.980; very high · 1st. The capital city was founded and formally named as Canberra in 1913. A plan by the American architects Walter Burley Griffin and Marion Mahony Griffin was ... Canberra, the capital city of Australia, is situated within the territory, and serves as the territory's primate city. It is located in southeastern Australian ... Home to the nation's capital, Canberra, the ACT is renowned for its cosmopolitan atmosphere and cool, new edge. The state boasts some of Australia's most ... Canberra in Australia Capital Territory is a small city of around 450,000 people that sits between Sydney and Melbourne. The site was chosen as the location for ... Canberra, federal capital of the Commonwealth of Australia. It occupies part of the Australian Capital Territory, in southern Australia, and is about 150 ... Australia's capital is Canberra, located in the southeast between the larger and more important economic and cultural centres of Sydney and Melbourne. Lady Denman naming the Federal City \"Canberra\" on 12 March, 1913. ... In the first day of January 1901, the colonies of New South Wales, Victoria, South Australia ... Canberra. Canberra is an attractive planned city, known as a city in a park,' steeped in national history and culture. It is surrounded by mountain ranges and ... The small-yet-mighty capital of Canberra is a city that punches far above its weight. Well-known museums and historical sites are just the beginning. Dig a ... Canberra is the capital city of Australia. In 1913, officially Canberra was regarded as the capital city of Australia. It is located between Melbourne and ...\u001b[0m\n",
      "Thought:\u001b[32;1m\u001b[1;3mWe have found the answer to the first question. Let's move on to the next one.\n",
      "\n",
      "Action: google_serper\n",
      "Action Input: \"current Prime Minister of Australia\"\u001b[0m\n",
      "Observation: \u001b[36;1m\u001b[1;3mAnthony Albanese\u001b[0m\n",
      "Thought:\u001b[32;1m\u001b[1;3mWe have the name of the current Prime Minister of Australia. Let's find out where he was born.\n",
      "\n",
      "Action: google_serper\n",
      "Action Input: \"birthplace of Anthony Albanese\"\u001b[0m\n",
      "Observation: \u001b[36;1m\u001b[1;3mSydney, Australia\u001b[0m\n",
      "Thought:\u001b[32;1m\u001b[1;3mWe now know the birthplace of the current Prime Minister of Australia. Let's find out the population of Sydney.\n",
      "\n",
      "Action: google_serper\n",
      "Action Input: \"population of Sydney, Australia\"\u001b[0m\n",
      "Observation: \u001b[36;1m\u001b[1;3m5.312 million (2019)\u001b[0m\n",
      "Thought:\u001b[32;1m\u001b[1;3mWe have the population of Sydney. Let's move on to the next question.\n",
      "\n",
      "Action: google_serper\n",
      "Action Input: \"GDP of Australia\"\u001b[0m\n",
      "Observation: \u001b[36;1m\u001b[1;3m1.693 trillion USD (2022)\u001b[0m\n",
      "Thought:\u001b[32;1m\u001b[1;3mWe have the GDP of Australia. Let's find out the main industries in Sydney.\n",
      "\n",
      "Action: google_serper\n",
      "Action Input: \"main industries in Sydney, Australia\"\u001b[0m\n",
      "Observation: \u001b[36;1m\u001b[1;3mSydney is globally recognised for its strengths in key industry sectors of financial and professional services, information technology, health, education and research.\u001b[0m\n",
      "Thought:\u001b[32;1m\u001b[1;3mWe have the main industries in Sydney. Let's find out who was the Prime Minister of Australia before the current one and where he or she was born.\n",
      "\n",
      "Action: google_serper\n",
      "Action Input: \"Prime Minister of Australia before Anthony Albanese\"\u001b[0m\n",
      "Observation: \u001b[36;1m\u001b[1;3mThe 31st and current prime minister is Anthony Albanese, who assumed office on 23 May 2022. There are currently seven living former prime ministers. The ... Prime Minister of Australia ; Incumbent Anthony Albanese since 23 May 2022. Australian Government · Department of the Prime Minister and Cabinet ; Incumbent Edmund Barton (1901–03) · Alfred Deakin (1903–04; 1905–08; 1909–10) · John Christian Watson (1904) · George Houston Reid (1904–05) · Andrew Fisher (1908–09; 1910–13 ... ... Tony Abbott (2013–15): Margaret Abbott; Malcolm Turnbull (2015–18): Lucy Mary Turnbull; Scott Morrison (2018–22): Jenny Morrison; Anthony Albanese (2022 ... Anthony Albanese became Australia's 31st Prime Minister when the Labor Party won office, replacing the Liberal-National Party Coalition government led by Scott ... Prime Ministers of Australia ; 1901–03 Edmund Barton ; Three times 1903–10 Alfred Deakin ; 1904 Chris Watson ; 1904–05 George Reid ; Three times 1908–15 Andrew ... Anthony Albanese (born March 2, 1963, Sydney, New South Wales, Australia) is an Australian politician who became the 31st prime minister of Australia in May ... The Hon Anthony Albanese MP was sworn in as Australia's 31st Prime Minister on 23 May 2022. He has previously served as Deputy Prime Minister and Leader of the ... On 23 May 2022, Anthony Albanese became Australia's 31st prime minister. Albanese was first elected to parliament as the federal member for Grayndler in ... MELBOURNE, Australia (AP) — Anthony Albanese has become the first Australian prime minister to get engaged while in office, ...\u001b[0m\n",
      "Thought:\u001b[32;1m\u001b[1;3mWe have found the information about the previous Prime Minister of Australia. Let's find out where he was born.\n",
      "\n",
      "Action: google_serper\n",
      "Action Input: \"birthplace of Scott Morrison\"\u001b[0m\n",
      "Observation: \u001b[36;1m\u001b[1;3mSydney, Australia\u001b[0m\n",
      "Thought:\u001b[32;1m\u001b[1;3mWe now know the birthplace of the previous Prime Minister of Australia. Let's find out the GDP of Australia during his term.\n",
      "\n",
      "Action: google_serper\n",
      "Action Input: \"GDP of Australia during Scott Morrison's term\"\u001b[0m\n",
      "Observation: \u001b[36;1m\u001b[1;3mThe economy grew 4.2% over the 12 months to December 2021. The December quarter's expansion was largely fueled by household spending, as a ... Scott Morrison has his \"plan for the future\". And he is sticking firmly to it, confident that economic management remains a trump card that ... In 2007 and 2008, as Labor started its last term, Australia's GDP per person was just under US$50,000, which ranked 11th among the 38 wealthy ... Morrison's term as Prime Minister Australian defence spending increased to more than 2% of GDP and he updated Australia's defence strategy and security posture ... His government's stewardship of the economy was at the heart of his 2022 re-election bid, with economic activity surpassing pre-pandemic levels ... Scott John Morrison (born 13 May 1968) is an Australian former politician who served as the 30th prime minister of Australia from 2018 to 2022, ... Mr Morrison's budget predicts taxes will climb to 22.9 per cent of GDP in four years, and 23.9 per cent in 10 years' time. The prime minister told reporters on Thursday that “the Australian economy grew by 1.4 per cent, through the year at 1.9 per cent in year ... Prime Minister Scott Morrison has put economic stewardship at the center of his bid for a come-from-behind win in Australia's May 21 ballot. Missing: term | Show results with:term. The Morrison government was the federal executive government of Australia, led by Prime Minister Scott Morrison of the Liberal Party of Australia, ...\u001b[0m\n",
      "Thought:\u001b[32;1m\u001b[1;3mWe have found the GDP of Australia during Scott Morrison's term. Let's find out how the main industries in Sydney contributed to the GDP during his term.\n",
      "\n",
      "Action: google_serper\n",
      "Action Input: \"main industries in Sydney contribution to GDP during Scott Morrison's term\"\u001b[0m\n",
      "Observation: \u001b[36;1m\u001b[1;3mThe tech sector contributed $167 billion to the Australian economy in FY2021, equivalent to 8.5% of GDP. This is made up of a direct contribution from tech- ... Gross domestic product (GDP) grew by 0.8% in the June quarter, in seasonally adjusted terms – more than double the 0.3% rise in the March ... Missing: industries | Show results with:industries. The economy expanded by 3.4% in the three months to December, data from the Australian Bureau of Statistics showed on Wednesday. Economists had ... Missing: industries | Show results with:industries. The biggest source of emissions in Australia is its power and heat sector – accounting for over 40% of greenhouse gas emissions. In 2020, more ... Scott John Morrison (born 13 May 1968) is an Australian former politician who served as the 30th prime minister of Australia from 2018 to 2022, ... Missing: GDP | Show results with:GDP. A successful, vibrant, domestically-based manufacturing sector generates important spillovers that strengthen other parts of the economy, and contribute. In 2007 and 2008, as Labor started its last term, Australia's GDP per person was just under US$50,000, which ranked 11th among the 38 wealthy ... “Small businesses make a huge contribution to national prosperity and supporting Australian jobs. Small businesses play a central role in the ... He then spent about a decade working in the tourism industry in Australia and New Zealand. Missing: term | Show results with:term.\u001b[0m\n",
      "Thought:\u001b[32;1m\u001b[1;3mWe have found information on how the main industries in Sydney contributed to the GDP during Scott Morrison's term. Let's summarize the answers to all the questions.\n",
      "\n",
      "Final Answer:\n",
      "1. Capital of Australia: Canberra\n",
      "2. Current Prime Minister of Australia: Anthony Albanese\n",
      "3. Birthplace of the current Prime Minister of Australia: Sydney\n",
      "4. Population of Sydney: 5.312 million (2019)\n",
      "5. GDP of Australia: 1.693 trillion USD (2022)\n",
      "6. Main industries in Sydney: Financial and professional services, information technology, health, education, and research\n",
      "7. Prime Minister of Australia before Anthony Albanese: Scott Morrison\n",
      "8. Birthplace of Scott Morrison: Sydney\n",
      "9. GDP of Australia during Scott Morrison's term: The economy grew 4.2% over the 12 months to December 2021\n",
      "10. Contribution of main industries in Sydney to the GDP during Scott Morrison's term: The tech sector contributed $167 billion to the Australian economy in FY2021, equivalent to 8.5% of GDP.\u001b[0m\n",
      "\n",
      "\u001b[1m> Finished chain.\u001b[0m\n",
      "1. Capital of Australia: Canberra\n",
      "2. Current Prime Minister of Australia: Anthony Albanese\n",
      "3. Birthplace of the current Prime Minister of Australia: Sydney\n",
      "4. Population of Sydney: 5.312 million (2019)\n",
      "5. GDP of Australia: 1.693 trillion USD (2022)\n",
      "6. Main industries in Sydney: Financial and professional services, information technology, health, education, and research\n",
      "7. Prime Minister of Australia before Anthony Albanese: Scott Morrison\n",
      "8. Birthplace of Scott Morrison: Sydney\n",
      "9. GDP of Australia during Scott Morrison's term: The economy grew 4.2% over the 12 months to December 2021\n",
      "10. Contribution of main industries in Sydney to the GDP during Scott Morrison's term: The tech sector contributed $167 billion to the Australian economy in FY2021, equivalent to 8.5% of GDP.\n"
     ]
    }
   ],
   "source": [
    "response = react_agent.invoke(query)\n",
    "print(response['output'])"
   ]
  },
  {
   "cell_type": "code",
   "execution_count": 27,
   "metadata": {},
   "outputs": [
    {
     "name": "stdout",
     "output_type": "stream",
     "text": [
      "The capital of Australia is Canberra.\n"
     ]
    }
   ],
   "source": [
    "response = agent.invoke({\n",
    "    \"messages\": [\n",
    "        HumanMessage(content=query),\n",
    "    ],\n",
    "})\n",
    "\n",
    "print(response['output'])"
   ]
  },
  {
   "cell_type": "code",
   "execution_count": null,
   "metadata": {},
   "outputs": [],
   "source": []
  }
 ],
 "metadata": {
  "kernelspec": {
   "display_name": "env",
   "language": "python",
   "name": "python3"
  },
  "language_info": {
   "codemirror_mode": {
    "name": "ipython",
    "version": 3
   },
   "file_extension": ".py",
   "mimetype": "text/x-python",
   "name": "python",
   "nbconvert_exporter": "python",
   "pygments_lexer": "ipython3",
   "version": "3.12.2"
  }
 },
 "nbformat": 4,
 "nbformat_minor": 2
}
